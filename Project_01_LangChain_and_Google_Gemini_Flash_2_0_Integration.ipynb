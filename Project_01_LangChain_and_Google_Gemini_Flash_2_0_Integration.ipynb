{
  "nbformat": 4,
  "nbformat_minor": 0,
  "metadata": {
    "colab": {
      "provenance": [],
      "authorship_tag": "ABX9TyNAuVkHXujhWnjS08m2b6NT",
      "include_colab_link": true
    },
    "kernelspec": {
      "name": "python3",
      "display_name": "Python 3"
    },
    "language_info": {
      "name": "python"
    }
  },
  "cells": [
    {
      "cell_type": "markdown",
      "metadata": {
        "id": "view-in-github",
        "colab_type": "text"
      },
      "source": [
        "<a href=\"https://colab.research.google.com/github/Uzair-DeVops/Quater-2/blob/main/Project_01_LangChain_and_Google_Gemini_Flash_2_0_Integration.ipynb\" target=\"_parent\"><img src=\"https://colab.research.google.com/assets/colab-badge.svg\" alt=\"Open In Colab\"/></a>"
      ]
    },
    {
      "cell_type": "code",
      "source": [
        "from google.colab import userdata\n",
        "import os\n",
        "GEMINI_API_KEY = userdata.get('GOOGLE_API_KEY_3')\n",
        "os.environ['GEMINI_API_KEY'] = GEMINI_API_KEY"
      ],
      "metadata": {
        "id": "hrgUgdXHjEIH"
      },
      "execution_count": 2,
      "outputs": []
    },
    {
      "cell_type": "code",
      "source": [
        "!pip install --upgrade --quiet langchain_google_genai\n"
      ],
      "metadata": {
        "collapsed": true,
        "id": "y4W9P9ZakeRe"
      },
      "execution_count": 27,
      "outputs": []
    },
    {
      "cell_type": "code",
      "source": [
        "from langchain_google_genai import ChatGoogleGenerativeAI\n",
        "from langchain.prompts import PromptTemplate\n",
        "from IPython.display import display, Markdown\n",
        "\n",
        "\n",
        "# Define the first prompt template\n",
        "first_prompt = PromptTemplate(\n",
        "    input_variables=[\"text\"],\n",
        "    template=\"\"\"\n",
        "Provide a detailed explanation of the topic: \"{text}\".\n",
        "\n",
        "The explanation should:\n",
        "- Be clear and easy to understand for a general audience.\n",
        "- Include relevant examples or applications, if possible.\n",
        "- Avoid unnecessary jargon while maintaining accuracy.\n",
        "\"\"\"\n",
        ")\n",
        "\n",
        "# Define the second prompt template\n",
        "second_prompt = PromptTemplate(\n",
        "    input_variables=[\"first_response\"],\n",
        "    template=\"\"\"\n",
        "Based on the following response: \"{first_response}\", create a detailed markdown explanation.\n",
        "\n",
        "The markdown explanation should include:\n",
        "# Introduction\n",
        "A brief overview of the topic.\n",
        "\n",
        "## Key Concepts\n",
        "Main ideas or points related to the topic.\n",
        "\n",
        "## In-depth Analysis\n",
        "A deeper exploration of critical subtopics or concepts.\n",
        "\n",
        "## Examples or Applications\n",
        "Relevant real-world examples, applications, or scenarios.\n",
        "\n",
        "## Conclusion\n",
        "A summary that reinforces the key takeaways.\n",
        "\"\"\"\n",
        ")\n",
        "\n",
        "# Define the third prompt template\n",
        "third_prompt = PromptTemplate(\n",
        "    input_variables=[\"second_response\"],\n",
        "    template=\"\"\"\n",
        "Convert the following detailed explanation into a well-structured image generation prompt:\n",
        "{second_response}\n",
        "\n",
        "The image generation prompt should:\n",
        "- Be specific, vivid, and descriptive.\n",
        "- Highlight key visual elements, styles, or themes.\n",
        "- Provide sufficient details to create a realistic or artistic image.\n",
        "- Avoid ambiguity to ensure accurate image generation.\n",
        "\"\"\"\n",
        ")\n",
        "\n",
        "# Configure the ChatGoogleGenerativeAI model\n",
        "llm = ChatGoogleGenerativeAI(\n",
        "    api_key=GEMINI_API_KEY,\n",
        "    model=\"gemini-2.0-flash-exp\",\n",
        "    temperature=0.6\n",
        ")\n",
        "\n",
        "llm2 = ChatGoogleGenerativeAI(\n",
        "    api_key=GEMINI_API_KEY,\n",
        "    model=\"gemini-2.0-flash-exp\",\n",
        "    temperature=0.1,\n",
        "    max_output_tokens=1000\n",
        ")\n",
        "\n",
        "llm3 = ChatGoogleGenerativeAI(\n",
        "    api_key=GEMINI_API_KEY,\n",
        "    model=\"gemini-2.0-flash-exp\",\n",
        "    max_output_tokens=300,\n",
        "    temperature=0.5\n",
        ")\n",
        "\n",
        "# Create chains for the prompts\n",
        "first_chain = first_prompt | llm\n",
        "second_chain = second_prompt | llm2\n",
        "third_chain = third_prompt | llm3\n",
        "\n",
        "# Get the first response\n",
        "text = \"Generative AI\"\n",
        "first_response = first_chain.invoke({\"text\": text})\n",
        "print(\"\\n\\n\\nFirst chain:\\n\\n\")\n",
        "display(Markdown(first_response.content))\n",
        "\n",
        "# Get the second response\n",
        "second_response = second_chain.invoke({\"first_response\": first_response.content})\n",
        "print(\"\\n\\n\\nSecond chain:\\n\\n\")\n",
        "display(Markdown(second_response.content))\n",
        "\n",
        "\n",
        "# Get the third response\n",
        "third_response = third_chain.invoke({\"second_response\": second_response.content})\n",
        "print(\"\\n\\n\\nThird chain:\\n\\n\")\n",
        "display(Markdown( third_response.content))\n",
        "\n"
      ],
      "metadata": {
        "colab": {
          "base_uri": "https://localhost:8080/",
          "height": 1000
        },
        "id": "PYWEgE19jMnO",
        "outputId": "db321f6f-ae3f-44f8-e249-52b6a35b5696"
      },
      "execution_count": 31,
      "outputs": [
        {
          "output_type": "stream",
          "name": "stdout",
          "text": [
            "\n",
            "\n",
            "\n",
            "First chain:\n",
            "\n",
            "\n"
          ]
        },
        {
          "output_type": "display_data",
          "data": {
            "text/plain": [
              "<IPython.core.display.Markdown object>"
            ],
            "text/markdown": "Okay, let's break down the fascinating world of Generative AI.\n\n**What is Generative AI?**\n\nAt its core, Generative AI is a type of artificial intelligence that can **create new content** that resembles something it has been trained on. Think of it like a really talented student who learns by studying a lot of examples and then can produce their own work in a similar style.\n\nInstead of just analyzing data, like most traditional AI, generative AI *synthesizes* new data. It doesn't just tell you what's already there; it crafts something original (or at least, something that appears original). This \"creation\" can take many forms:\n\n* **Text:** Writing stories, poems, articles, emails, code, and even scripts.\n* **Images:** Generating realistic photos, paintings, drawings, and even abstract art.\n* **Audio:** Composing music, creating sound effects, and even synthesizing speech.\n* **Video:** Producing short clips, animations, and even full-length videos.\n* **3D Models:** Creating virtual objects for games, simulations, and design.\n\n**How Does it Work? (Simplified)**\n\nWhile the underlying math can be complex, the basic idea behind generative AI is this:\n\n1. **Training:** The AI is fed a massive amount of data related to what you want it to create. For example, to generate images of cats, it would be shown millions of cat pictures.\n2. **Learning Patterns:** The AI analyzes this data and learns the underlying patterns, styles, and relationships. It essentially figures out what makes a cat look like a cat, or what makes a song sound like a particular genre.\n3. **Generating New Content:** Once trained, the AI can use its learned knowledge to create new, unique content that resembles the data it was trained on. It doesn't just copy and paste; it generates something novel.\n\n**Think of it like this:** Imagine you're learning to draw. You start by looking at a lot of pictures of dogs. You study their shapes, proportions, and features. Eventually, you can draw your own dog, even if you've never seen that exact dog before. Generative AI does something similar, but on a much larger and more complex scale.\n\n**Key Technologies Behind Generative AI:**\n\nWhile there are many different techniques, some of the most common include:\n\n* **Generative Adversarial Networks (GANs):** These use two AI models that compete against each other. One model creates content, and the other tries to determine if it's real or fake. This competition forces both models to improve, resulting in increasingly realistic outputs.\n* **Variational Autoencoders (VAEs):** These models learn a compressed representation of the input data and then use that representation to generate new data.\n* **Transformers:** These powerful models are particularly good at understanding context and relationships in text and have revolutionized natural language processing and image generation.\n\n**Examples and Applications of Generative AI:**\n\nThe possibilities for generative AI are vast, and we're already seeing it used in numerous ways:\n\n* **Creative Arts:**\n    * **Music:** AI tools can compose original music in various genres, helping musicians with inspiration or even creating entire soundtracks.\n    * **Art:** AI image generators allow anyone to create stunning artwork by simply typing in a description.\n    * **Writing:** AI can assist writers with brainstorming, crafting outlines, or even generating entire stories.\n* **Business and Marketing:**\n    * **Personalized Content:** AI can generate tailored marketing materials, emails, and product descriptions.\n    * **Product Design:** AI can create new designs for products, from clothing to furniture.\n    * **Customer Service:** AI chatbots can provide more personalized and helpful support.\n* **Gaming and Entertainment:**\n    * **Creating Game Assets:** AI can generate textures, 3D models, and even level designs for games.\n    * **Virtual Worlds:** AI can populate virtual worlds with realistic characters and environments.\n    * **Special Effects:** AI can create stunning visual effects for movies and TV shows.\n* **Science and Research:**\n    * **Drug Discovery:** AI can generate new molecular structures for potential drugs.\n    * **Materials Science:** AI can design new materials with specific properties.\n    * **Data Augmentation:** AI can generate synthetic data to help train other AI models.\n\n**Ethical Considerations:**\n\nWhile incredibly powerful, generative AI also raises important ethical concerns:\n\n* **Misinformation:** AI can create realistic fake images, videos, and text, making it harder to distinguish truth from falsehood.\n* **Bias:** If the training data contains biases, the AI will likely perpetuate them, leading to unfair or discriminatory outcomes.\n* **Job Displacement:** The automation capabilities of AI could lead to job losses in certain industries.\n* **Copyright and Ownership:** Determining who owns the copyright to AI-generated content is a complex legal issue.\n\n**In Conclusion:**\n\nGenerative AI is a rapidly evolving field with the potential to revolutionize how we create, interact, and solve problems. It's a powerful tool that can be used for good, but it's crucial to be aware of its limitations and potential risks. As the technology continues to advance, understanding its capabilities and ethical implications will become increasingly important.\n"
          },
          "metadata": {}
        },
        {
          "output_type": "stream",
          "name": "stdout",
          "text": [
            "\n",
            "\n",
            "\n",
            "Second chain:\n",
            "\n",
            "\n"
          ]
        },
        {
          "output_type": "display_data",
          "data": {
            "text/plain": [
              "<IPython.core.display.Markdown object>"
            ],
            "text/markdown": "Okay, here's a detailed markdown explanation based on the provided text about Generative AI:\n\n# Introduction\n\nGenerative AI represents a significant leap in artificial intelligence, moving beyond simple data analysis to the creation of entirely new content. Unlike traditional AI that primarily focuses on understanding and categorizing existing information, generative AI is designed to synthesize novel outputs that resemble the data it has been trained on. This capability opens up a vast array of possibilities across various sectors, from creative arts to scientific research, but also raises important ethical considerations that need careful attention.\n\n## Key Concepts\n\n*   **Content Creation:** The core function of generative AI is to produce new content, not just analyze existing data. This content can take many forms, including text, images, audio, video, and 3D models.\n*   **Training Data:** Generative AI models learn by being exposed to massive datasets. The quality and nature of this data directly influence the output of the AI.\n*   **Pattern Recognition:** The AI analyzes the training data to identify underlying patterns, styles, and relationships. This understanding enables it to generate new content that adheres to these learned characteristics.\n*   **Synthesis, Not Copying:** Generative AI doesn't simply replicate the training data; it synthesizes new content based on the patterns it has learned. This results in outputs that are novel, though often similar in style to the training data.\n*   **Key Technologies:** Several technologies power generative AI, including Generative Adversarial Networks (GANs), Variational Autoencoders (VAEs), and Transformers. Each has its own approach to learning and generating content.\n\n## In-depth Analysis\n\n### How Generative AI Works (Simplified)\n\n1.  **Training Phase:** The AI is fed a large dataset relevant to the desired output. For example, to generate realistic images of faces, it would be trained on millions of face photos.\n2.  **Learning Patterns:** The AI analyzes the training data, identifying the underlying structures, styles, and relationships. It learns what makes a face look like a face, or what makes a song sound like a specific genre.\n3.  **Generation Phase:** Once trained, the AI can use its learned knowledge to generate new, unique content that resembles the training data. It doesn't copy and paste; it creates something novel based on its understanding of the patterns.\n\n### Key Technologies Explained\n\n*   **Generative Adversarial Networks (GANs):** GANs use two neural networks: a generator and a discriminator. The generator creates content, and the discriminator tries to determine if it's real or fake. This adversarial process forces both models to improve, leading to increasingly realistic outputs.\n*   **Variational Autoencoders (VAEs):** VAEs learn a compressed representation of the input data. This compressed representation is then used to generate new data. VAEs are particularly good at generating smooth and continuous variations of the input data.\n*   **Transformers:** Transformers are powerful models that excel at understanding context and relationships in sequential data, such as text. They have revolutionized natural language processing and are also used in image generation.\n\n### Ethical Considerations\n\n*   **Misinformation:** Generative AI can create highly realistic fake content, making it difficult to distinguish between truth and falsehood. This poses a significant threat to public trust and can be used to spread propaganda or manipulate public opinion.\n*   **Bias:** If the training data contains biases, the AI will likely perpetuate them, leading to unfair or discriminatory outcomes. This is a critical concern, especially in areas like hiring or loan applications.\n*   **Job Displacement:** The automation capabilities of generative AI could lead to job losses in certain industries, particularly those involving repetitive or creative tasks.\n*   **Copyright and Ownership:** The legal status of AI-generated content is still unclear. Determining who owns the copyright to AI-generated works is a complex legal issue that needs to be addressed.\n\n## Examples or Applications\n\n*   **Creative Arts:**\n    *   **Music:** AI tools can compose original music in various genres, assisting musicians with inspiration or creating entire soundtracks.\n    *   **Art:** AI image generators allow anyone to create stunning artwork by simply typing in a description.\n    *   **Writing:** AI can assist writers with brainstorming, crafting outlines, or even generating entire stories.\n*   **Business and Marketing:**\n    *   **Personalized Content:** AI can generate tailored marketing materials, emails, and product descriptions.\n    *   **Product Design:** AI can create new designs for products, from clothing to furniture.\n    *   **Customer Service:** AI chatbots can provide more personalized and helpful support.\n*   **Gaming and Entertainment:**\n    *   **Creating Game Assets:** AI can generate textures, 3D models, and even level designs for games.\n    *   **Virtual"
          },
          "metadata": {}
        },
        {
          "output_type": "stream",
          "name": "stdout",
          "text": [
            "\n",
            "\n",
            "\n",
            "Third chain:\n",
            "\n",
            "\n"
          ]
        },
        {
          "output_type": "display_data",
          "data": {
            "text/plain": [
              "<IPython.core.display.Markdown object>"
            ],
            "text/markdown": "Okay, here's a structured image generation prompt based on the provided markdown explanation, designed to be specific, vivid, and descriptive:\n\n**Image Generation Prompt:**\n\n\"Create a visually compelling and dynamic digital art piece that represents the core concepts of Generative AI. The central image should feature a stylized brain, rendered in a vibrant, almost neon color palette (think electric blues, glowing greens, and hot pinks). This brain should be composed of interconnected nodes and pathways, resembling a complex neural network, with streams of data flowing through it – depicted as glowing lines of light. Surrounding the brain, depict various examples of AI-generated content:\n\n*   **On the left:** A swirling abstract painting, showcasing vibrant colors and brushstrokes that appear both chaotic and intentional, representing AI-generated art.\n*   **On the right:** A detailed, photorealistic human face, demonstrating AI's ability to create realistic imagery, but with a subtle, almost ethereal glow to indicate its artificial origin.\n*   **Below the brain:** A flowing musical score, rendered in a futuristic style, with abstract notes and symbols that suggest AI-generated music composition.\n*   **Above the brain:** A 3D model of a futuristic, sleek product (perhaps a phone or a piece of furniture), showcasing AI's role in design.\n\nThe overall style should be a blend of futuristic and abstract, with a focus on vibrant colors and dynamic movement. The background should be a"
          },
          "metadata": {}
        }
      ]
    },
    {
      "cell_type": "code",
      "source": [],
      "metadata": {
        "id": "RxchOg5Kp4Kb"
      },
      "execution_count": null,
      "outputs": []
    }
  ]
}