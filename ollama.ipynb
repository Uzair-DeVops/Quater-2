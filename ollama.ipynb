{
  "nbformat": 4,
  "nbformat_minor": 0,
  "metadata": {
    "colab": {
      "provenance": [],
      "authorship_tag": "ABX9TyMFNj3HtjEOyNsAjxE8zav8",
      "include_colab_link": true
    },
    "kernelspec": {
      "name": "python3",
      "display_name": "Python 3"
    },
    "language_info": {
      "name": "python"
    }
  },
  "cells": [
    {
      "cell_type": "markdown",
      "metadata": {
        "id": "view-in-github",
        "colab_type": "text"
      },
      "source": [
        "<a href=\"https://colab.research.google.com/github/Uzair-DeVops/Quater-2/blob/main/ollama.ipynb\" target=\"_parent\"><img src=\"https://colab.research.google.com/assets/colab-badge.svg\" alt=\"Open In Colab\"/></a>"
      ]
    },
    {
      "cell_type": "code",
      "execution_count": null,
      "metadata": {
        "id": "R8gk_tX_pppz"
      },
      "outputs": [],
      "source": [
        "!pip install colab-xterm\n"
      ]
    },
    {
      "cell_type": "code",
      "source": [
        "%load_ext colabxterm\n"
      ],
      "metadata": {
        "id": "ZNdCFQ9_pzsg"
      },
      "execution_count": null,
      "outputs": []
    },
    {
      "cell_type": "code",
      "source": [
        "%xterm\n"
      ],
      "metadata": {
        "id": "KO8HSt50p1em"
      },
      "execution_count": null,
      "outputs": []
    },
    {
      "cell_type": "code",
      "source": [
        "Terminal =  curl -fsSL https://ollama.com/install.sh | sh\n"
      ],
      "metadata": {
        "id": "28H9Bmvkp24e"
      },
      "execution_count": null,
      "outputs": []
    },
    {
      "cell_type": "code",
      "source": [
        "Terminal =   ollama serve &\n"
      ],
      "metadata": {
        "id": "tqf0N2C7p8Jb"
      },
      "execution_count": null,
      "outputs": []
    },
    {
      "cell_type": "code",
      "source": [
        "Terminal =   ollama run llama3.2"
      ],
      "metadata": {
        "id": "MESMWDnvp8_p"
      },
      "execution_count": null,
      "outputs": []
    },
    {
      "cell_type": "code",
      "source": [
        "!pip install ollama\n"
      ],
      "metadata": {
        "id": "K_JTga4bqF7-"
      },
      "execution_count": null,
      "outputs": []
    },
    {
      "cell_type": "code",
      "source": [
        "import ollama\n",
        "MODEL = \"llama3.2-vision\"\n",
        "messages = [\n",
        "    {\"role\": \"user\", \"content\": \"what is  Ai\"}\n",
        "]\n",
        "\n",
        "response = ollama.chat(model=MODEL, messages=messages )\n",
        "print(response['message']['content'])"
      ],
      "metadata": {
        "id": "KPTEfCm9qISu"
      },
      "execution_count": null,
      "outputs": []
    },
    {
      "cell_type": "code",
      "source": [
        "First U have to run Terminal =   ollama run llama3.2-vision"
      ],
      "metadata": {
        "id": "5ELu0zqhqXE5"
      },
      "execution_count": null,
      "outputs": []
    },
    {
      "cell_type": "code",
      "source": [
        "import ollama\n",
        "\n",
        "response = ollama.chat(\n",
        "    model=\"llama3.2-vision\",\n",
        "    messages=[\n",
        "        {\n",
        "            'role': 'user',\n",
        "            'content': 'Describe this image:',\n",
        "            'images': ['/content/images.jpg']\n",
        "        }\n",
        "    ]\n",
        ")\n",
        "\n",
        "print(response['message']['content'])\n"
      ],
      "metadata": {
        "id": "NP88EWJtqPh5"
      },
      "execution_count": null,
      "outputs": []
    }
  ]
}